{
 "cells": [
  {
   "cell_type": "code",
   "execution_count": 50,
   "metadata": {},
   "outputs": [],
   "source": [
    "import numpy\n",
    "import pandas as pd\n",
    "import matplotlib.pyplot as plt\n",
    "import seaborn as sns\n",
    "import scipy.stats\n",
    "import warnings\n",
    "warnings.filterwarnings('ignore')"
   ]
  },
  {
   "cell_type": "code",
   "execution_count": 51,
   "metadata": {},
   "outputs": [],
   "source": [
    "# Load the data\n",
    "df = pd.read_csv(r'E:\\ML projects\\AutomobileLoanDefaultPrediction\\notebooks\\data\\autodata.csv')\n",
    "\n"
   ]
  },
  {
   "cell_type": "code",
   "execution_count": 52,
   "metadata": {},
   "outputs": [
    {
     "name": "stdout",
     "output_type": "stream",
     "text": [
      "         ID Client_Income  Car_Owned  Bike_Owned  Active_Loan  House_Own  \\\n",
      "0  12142509          6750        0.0         0.0          1.0        0.0   \n",
      "1  12138936         20250        1.0         0.0          1.0        NaN   \n",
      "2  12181264         18000        0.0         0.0          1.0        0.0   \n",
      "3  12188929         15750        0.0         0.0          1.0        1.0   \n",
      "4  12133385         33750        1.0         0.0          1.0        0.0   \n",
      "\n",
      "   Child_Count Credit_Amount Loan_Annuity Accompany_Client  ...  \\\n",
      "0          0.0      61190.55      3416.85            Alone  ...   \n",
      "1          0.0         15282      1826.55            Alone  ...   \n",
      "2          1.0      59527.35       2788.2            Alone  ...   \n",
      "3          0.0       53870.4      2295.45            Alone  ...   \n",
      "4          2.0      133988.4      3547.35            Alone  ...   \n",
      "\n",
      "  Client_Permanent_Match_Tag Client_Contact_Work_Tag       Type_Organization  \\\n",
      "0                        Yes                     Yes           Self-employed   \n",
      "1                        Yes                     Yes              Government   \n",
      "2                        Yes                     Yes           Self-employed   \n",
      "3                        Yes                     Yes                     XNA   \n",
      "4                        Yes                     Yes  Business Entity Type 3   \n",
      "\n",
      "  Score_Source_1 Score_Source_2 Score_Source_3 Social_Circle_Default  \\\n",
      "0       0.568066       0.478787            NaN                0.0186   \n",
      "1       0.563360       0.215068            NaN                   NaN   \n",
      "2            NaN       0.552795       0.329655                0.0742   \n",
      "3            NaN       0.135182       0.631355                   NaN   \n",
      "4       0.508199       0.301182       0.355639                0.2021   \n",
      "\n",
      "  Phone_Change Credit_Bureau Default  \n",
      "0         63.0           NaN       0  \n",
      "1          NaN           NaN       0  \n",
      "2        277.0           0.0       0  \n",
      "3       1700.0           3.0       0  \n",
      "4        674.0           1.0       0  \n",
      "\n",
      "[5 rows x 40 columns]\n"
     ]
    }
   ],
   "source": [
    "# Head of the data\n",
    "print(df.head())"
   ]
  },
  {
   "cell_type": "code",
   "execution_count": 53,
   "metadata": {},
   "outputs": [
    {
     "name": "stdout",
     "output_type": "stream",
     "text": [
      "ID                              int64\n",
      "Client_Income                  object\n",
      "Car_Owned                     float64\n",
      "Bike_Owned                    float64\n",
      "Active_Loan                   float64\n",
      "House_Own                     float64\n",
      "Child_Count                   float64\n",
      "Credit_Amount                  object\n",
      "Loan_Annuity                   object\n",
      "Accompany_Client               object\n",
      "Client_Income_Type             object\n",
      "Client_Education               object\n",
      "Client_Marital_Status          object\n",
      "Client_Gender                  object\n",
      "Loan_Contract_Type             object\n",
      "Client_Housing_Type            object\n",
      "Population_Region_Relative     object\n",
      "Age_Days                       object\n",
      "Employed_Days                  object\n",
      "Registration_Days              object\n",
      "ID_Days                        object\n",
      "Own_House_Age                 float64\n",
      "Mobile_Tag                      int64\n",
      "Homephone_Tag                   int64\n",
      "Workphone_Working               int64\n",
      "Client_Occupation              object\n",
      "Client_Family_Members         float64\n",
      "Cleint_City_Rating            float64\n",
      "Application_Process_Day       float64\n",
      "Application_Process_Hour      float64\n",
      "Client_Permanent_Match_Tag     object\n",
      "Client_Contact_Work_Tag        object\n",
      "Type_Organization              object\n",
      "Score_Source_1                float64\n",
      "Score_Source_2                float64\n",
      "Score_Source_3                 object\n",
      "Social_Circle_Default         float64\n",
      "Phone_Change                  float64\n",
      "Credit_Bureau                 float64\n",
      "Default                         int64\n",
      "dtype: object\n"
     ]
    }
   ],
   "source": [
    "#Data types\n",
    "print(df.dtypes)"
   ]
  },
  {
   "cell_type": "code",
   "execution_count": 54,
   "metadata": {},
   "outputs": [
    {
     "name": "stdout",
     "output_type": "stream",
     "text": [
      "<class 'pandas.core.frame.DataFrame'>\n",
      "RangeIndex: 121856 entries, 0 to 121855\n",
      "Data columns (total 40 columns):\n",
      " #   Column                      Non-Null Count   Dtype  \n",
      "---  ------                      --------------   -----  \n",
      " 0   ID                          121856 non-null  int64  \n",
      " 1   Client_Income               118249 non-null  object \n",
      " 2   Car_Owned                   118275 non-null  float64\n",
      " 3   Bike_Owned                  118232 non-null  float64\n",
      " 4   Active_Loan                 118221 non-null  float64\n",
      " 5   House_Own                   118195 non-null  float64\n",
      " 6   Child_Count                 118218 non-null  float64\n",
      " 7   Credit_Amount               118224 non-null  object \n",
      " 8   Loan_Annuity                117044 non-null  object \n",
      " 9   Accompany_Client            120110 non-null  object \n",
      " 10  Client_Income_Type          118155 non-null  object \n",
      " 11  Client_Education            118211 non-null  object \n",
      " 12  Client_Marital_Status       118383 non-null  object \n",
      " 13  Client_Gender               119443 non-null  object \n",
      " 14  Loan_Contract_Type          118205 non-null  object \n",
      " 15  Client_Housing_Type         118169 non-null  object \n",
      " 16  Population_Region_Relative  116999 non-null  object \n",
      " 17  Age_Days                    118256 non-null  object \n",
      " 18  Employed_Days               118207 non-null  object \n",
      " 19  Registration_Days           118242 non-null  object \n",
      " 20  ID_Days                     115888 non-null  object \n",
      " 21  Own_House_Age               41761 non-null   float64\n",
      " 22  Mobile_Tag                  121856 non-null  int64  \n",
      " 23  Homephone_Tag               121856 non-null  int64  \n",
      " 24  Workphone_Working           121856 non-null  int64  \n",
      " 25  Client_Occupation           80421 non-null   object \n",
      " 26  Client_Family_Members       119446 non-null  float64\n",
      " 27  Cleint_City_Rating          119447 non-null  float64\n",
      " 28  Application_Process_Day     119428 non-null  float64\n",
      " 29  Application_Process_Hour    118193 non-null  float64\n",
      " 30  Client_Permanent_Match_Tag  121856 non-null  object \n",
      " 31  Client_Contact_Work_Tag     121856 non-null  object \n",
      " 32  Type_Organization           118247 non-null  object \n",
      " 33  Score_Source_1              53021 non-null   float64\n",
      " 34  Score_Source_2              116170 non-null  float64\n",
      " 35  Score_Source_3              94935 non-null   object \n",
      " 36  Social_Circle_Default       59928 non-null   float64\n",
      " 37  Phone_Change                118192 non-null  float64\n",
      " 38  Credit_Bureau               103316 non-null  float64\n",
      " 39  Default                     121856 non-null  int64  \n",
      "dtypes: float64(15), int64(5), object(20)\n",
      "memory usage: 37.2+ MB\n",
      "None\n"
     ]
    }
   ],
   "source": [
    "# data info\n",
    "print(df.info())"
   ]
  },
  {
   "cell_type": "code",
   "execution_count": 55,
   "metadata": {},
   "outputs": [
    {
     "name": "stdout",
     "output_type": "stream",
     "text": [
      "ID                                0\n",
      "Client_Income                  3607\n",
      "Car_Owned                      3581\n",
      "Bike_Owned                     3624\n",
      "Active_Loan                    3635\n",
      "House_Own                      3661\n",
      "Child_Count                    3638\n",
      "Credit_Amount                  3632\n",
      "Loan_Annuity                   4812\n",
      "Accompany_Client               1746\n",
      "Client_Income_Type             3701\n",
      "Client_Education               3645\n",
      "Client_Marital_Status          3473\n",
      "Client_Gender                  2413\n",
      "Loan_Contract_Type             3651\n",
      "Client_Housing_Type            3687\n",
      "Population_Region_Relative     4857\n",
      "Age_Days                       3600\n",
      "Employed_Days                  3649\n",
      "Registration_Days              3614\n",
      "ID_Days                        5968\n",
      "Own_House_Age                 80095\n",
      "Mobile_Tag                        0\n",
      "Homephone_Tag                     0\n",
      "Workphone_Working                 0\n",
      "Client_Occupation             41435\n",
      "Client_Family_Members          2410\n",
      "Cleint_City_Rating             2409\n",
      "Application_Process_Day        2428\n",
      "Application_Process_Hour       3663\n",
      "Client_Permanent_Match_Tag        0\n",
      "Client_Contact_Work_Tag           0\n",
      "Type_Organization              3609\n",
      "Score_Source_1                68835\n",
      "Score_Source_2                 5686\n",
      "Score_Source_3                26921\n",
      "Social_Circle_Default         61928\n",
      "Phone_Change                   3664\n",
      "Credit_Bureau                 18540\n",
      "Default                           0\n",
      "dtype: int64\n"
     ]
    }
   ],
   "source": [
    "# Check for missing values\n",
    "print(df.isnull().sum())"
   ]
  },
  {
   "cell_type": "code",
   "execution_count": 56,
   "metadata": {},
   "outputs": [
    {
     "name": "stdout",
     "output_type": "stream",
     "text": [
      "                 ID      Car_Owned     Bike_Owned    Active_Loan  \\\n",
      "count  1.218560e+05  118275.000000  118232.000000  118221.000000   \n",
      "mean   1.216093e+07       0.342854       0.332262       0.499175   \n",
      "std    3.517694e+04       0.474665       0.471026       0.500001   \n",
      "min    1.210000e+07       0.000000       0.000000       0.000000   \n",
      "25%    1.213046e+07       0.000000       0.000000       0.000000   \n",
      "50%    1.216093e+07       0.000000       0.000000       0.000000   \n",
      "75%    1.219139e+07       1.000000       1.000000       1.000000   \n",
      "max    1.222186e+07       1.000000       1.000000       1.000000   \n",
      "\n",
      "           House_Own    Child_Count  Own_House_Age     Mobile_Tag  \\\n",
      "count  118195.000000  118218.000000   41761.000000  121856.000000   \n",
      "mean        0.692060       0.417779      12.157324       0.999992   \n",
      "std         0.461644       0.728802      12.056079       0.002865   \n",
      "min         0.000000       0.000000       0.000000       0.000000   \n",
      "25%         0.000000       0.000000       5.000000       1.000000   \n",
      "50%         1.000000       0.000000       9.000000       1.000000   \n",
      "75%         1.000000       1.000000      15.000000       1.000000   \n",
      "max         1.000000      19.000000      69.000000       1.000000   \n",
      "\n",
      "       Homephone_Tag  Workphone_Working  Client_Family_Members  \\\n",
      "count  121856.000000      121856.000000          119446.000000   \n",
      "mean        0.200499           0.281201               2.154329   \n",
      "std         0.400375           0.449587               0.912686   \n",
      "min         0.000000           0.000000               1.000000   \n",
      "25%         0.000000           0.000000               2.000000   \n",
      "50%         0.000000           0.000000               2.000000   \n",
      "75%         0.000000           1.000000               3.000000   \n",
      "max         1.000000           1.000000              16.000000   \n",
      "\n",
      "       Cleint_City_Rating  Application_Process_Day  Application_Process_Hour  \\\n",
      "count       119447.000000            119428.000000             118193.000000   \n",
      "mean             2.030038                 3.159736                 12.063100   \n",
      "std              0.504407                 1.759045                  3.280695   \n",
      "min              1.000000                 0.000000                  0.000000   \n",
      "25%              2.000000                 2.000000                 10.000000   \n",
      "50%              2.000000                 3.000000                 12.000000   \n",
      "75%              2.000000                 5.000000                 14.000000   \n",
      "max              3.000000                 6.000000                 23.000000   \n",
      "\n",
      "       Score_Source_1  Score_Source_2  Social_Circle_Default   Phone_Change  \\\n",
      "count    53021.000000   116170.000000           59928.000000  118192.000000   \n",
      "mean         0.501213        0.518625               0.117428     962.106056   \n",
      "std          0.211204        0.740248               0.107974     827.976726   \n",
      "min          0.014568        0.000005               0.000000       0.000000   \n",
      "25%          0.333481        0.390164               0.057700     272.000000   \n",
      "50%          0.504657        0.564978               0.088700     755.000000   \n",
      "75%          0.673890        0.664011               0.148500    1570.000000   \n",
      "max          0.945741      100.000000               1.000000    4185.000000   \n",
      "\n",
      "       Credit_Bureau        Default  \n",
      "count  103316.000000  121856.000000  \n",
      "mean        1.891082       0.080792  \n",
      "std         1.861921       0.272517  \n",
      "min         0.000000       0.000000  \n",
      "25%         0.000000       0.000000  \n",
      "50%         1.000000       0.000000  \n",
      "75%         3.000000       0.000000  \n",
      "max        22.000000       1.000000  \n"
     ]
    }
   ],
   "source": [
    "# Summary statistics\n",
    "print(df.describe())"
   ]
  },
  {
   "cell_type": "code",
   "execution_count": 57,
   "metadata": {},
   "outputs": [
    {
     "name": "stdout",
     "output_type": "stream",
     "text": [
      "ID                                0\n",
      "Client_Income                  3607\n",
      "Car_Owned                      3581\n",
      "Bike_Owned                     3624\n",
      "Active_Loan                    3635\n",
      "House_Own                      3661\n",
      "Child_Count                    3638\n",
      "Credit_Amount                  3632\n",
      "Loan_Annuity                   4812\n",
      "Accompany_Client               1746\n",
      "Client_Income_Type             3701\n",
      "Client_Education               3645\n",
      "Client_Marital_Status          3473\n",
      "Client_Gender                  2413\n",
      "Loan_Contract_Type             3651\n",
      "Client_Housing_Type            3687\n",
      "Population_Region_Relative     4857\n",
      "Age_Days                       3600\n",
      "Employed_Days                  3649\n",
      "Registration_Days              3614\n",
      "ID_Days                        5968\n",
      "Own_House_Age                 80095\n",
      "Mobile_Tag                        0\n",
      "Homephone_Tag                     0\n",
      "Workphone_Working                 0\n",
      "Client_Occupation             41435\n",
      "Client_Family_Members          2410\n",
      "Cleint_City_Rating             2409\n",
      "Application_Process_Day        2428\n",
      "Application_Process_Hour       3663\n",
      "Client_Permanent_Match_Tag        0\n",
      "Client_Contact_Work_Tag           0\n",
      "Type_Organization              3609\n",
      "Score_Source_1                68835\n",
      "Score_Source_2                 5686\n",
      "Score_Source_3                26921\n",
      "Social_Circle_Default         61928\n",
      "Phone_Change                   3664\n",
      "Credit_Bureau                 18540\n",
      "Default                           0\n",
      "dtype: int64\n"
     ]
    }
   ],
   "source": [
    "#print the na count\n",
    "nan_counts = df.isna().sum()\n",
    "print(nan_counts)"
   ]
  },
  {
   "cell_type": "code",
   "execution_count": 58,
   "metadata": {},
   "outputs": [
    {
     "name": "stdout",
     "output_type": "stream",
     "text": [
      "(121856, 40)\n"
     ]
    }
   ],
   "source": [
    "# check shape of the data\n",
    "print(df.shape)"
   ]
  },
  {
   "cell_type": "markdown",
   "metadata": {},
   "source": [
    "The data has too many missing values"
   ]
  },
  {
   "cell_type": "markdown",
   "metadata": {},
   "source": [
    "***Data Preprocessing and EDA***"
   ]
  },
  {
   "cell_type": "code",
   "execution_count": 59,
   "metadata": {},
   "outputs": [
    {
     "data": {
      "text/plain": [
       "Client_Income                  1516\n",
       "Credit_Amount                  6816\n",
       "Loan_Annuity                  16680\n",
       "Accompany_Client                  7\n",
       "Client_Income_Type                8\n",
       "Client_Education                  5\n",
       "Client_Marital_Status             4\n",
       "Client_Gender                     3\n",
       "Loan_Contract_Type                2\n",
       "Client_Housing_Type               6\n",
       "Population_Region_Relative      164\n",
       "Age_Days                      22583\n",
       "Employed_Days                 13220\n",
       "Registration_Days             19254\n",
       "ID_Days                        9655\n",
       "Client_Occupation                18\n",
       "Client_Permanent_Match_Tag        2\n",
       "Client_Contact_Work_Tag           2\n",
       "Type_Organization                58\n",
       "Score_Source_3                 1430\n",
       "dtype: int64"
      ]
     },
     "execution_count": 59,
     "metadata": {},
     "output_type": "execute_result"
    }
   ],
   "source": [
    "#check all the distinguished features of the dataset\n",
    "df.select_dtypes(include='object').nunique()"
   ]
  },
  {
   "cell_type": "code",
   "execution_count": 60,
   "metadata": {},
   "outputs": [],
   "source": [
    "#remove the ID column as we dont need it in the train dataset\n",
    "df.drop(columns = ['ID', 'ID_Days'], inplace=True)"
   ]
  },
  {
   "cell_type": "code",
   "execution_count": 61,
   "metadata": {},
   "outputs": [
    {
     "name": "stdout",
     "output_type": "stream",
     "text": [
      "Index(['Car_Owned', 'Bike_Owned', 'Active_Loan', 'House_Own', 'Child_Count',\n",
      "       'Own_House_Age', 'Mobile_Tag', 'Homephone_Tag', 'Workphone_Working',\n",
      "       'Client_Family_Members', 'Cleint_City_Rating',\n",
      "       'Application_Process_Day', 'Application_Process_Hour', 'Score_Source_1',\n",
      "       'Score_Source_2', 'Social_Circle_Default', 'Phone_Change',\n",
      "       'Credit_Bureau', 'Default'],\n",
      "      dtype='object')\n"
     ]
    }
   ],
   "source": [
    "numerical_columns = df.select_dtypes(include=['int64', 'float64'])\n",
    "print(numerical_columns.columns)"
   ]
  },
  {
   "cell_type": "code",
   "execution_count": 62,
   "metadata": {},
   "outputs": [
    {
     "data": {
      "text/plain": [
       "Car_Owned                       2\n",
       "Bike_Owned                      2\n",
       "Active_Loan                     2\n",
       "House_Own                       2\n",
       "Child_Count                    14\n",
       "Own_House_Age                  55\n",
       "Mobile_Tag                      2\n",
       "Homephone_Tag                   2\n",
       "Workphone_Working               2\n",
       "Client_Family_Members          15\n",
       "Cleint_City_Rating              3\n",
       "Application_Process_Day         7\n",
       "Application_Process_Hour       24\n",
       "Score_Source_1              43968\n",
       "Score_Source_2              67016\n",
       "Social_Circle_Default        1882\n",
       "Phone_Change                 3590\n",
       "Credit_Bureau                  21\n",
       "Default                         2\n",
       "dtype: int64"
      ]
     },
     "execution_count": 62,
     "metadata": {},
     "output_type": "execute_result"
    }
   ],
   "source": [
    "df.select_dtypes(include=['int64', 'float64']).nunique()"
   ]
  },
  {
   "cell_type": "code",
   "execution_count": 63,
   "metadata": {},
   "outputs": [
    {
     "name": "stdout",
     "output_type": "stream",
     "text": [
      "Index(['Client_Income', 'Credit_Amount', 'Loan_Annuity', 'Accompany_Client',\n",
      "       'Client_Income_Type', 'Client_Education', 'Client_Marital_Status',\n",
      "       'Client_Gender', 'Loan_Contract_Type', 'Client_Housing_Type',\n",
      "       'Population_Region_Relative', 'Age_Days', 'Employed_Days',\n",
      "       'Registration_Days', 'Client_Occupation', 'Client_Permanent_Match_Tag',\n",
      "       'Client_Contact_Work_Tag', 'Type_Organization', 'Score_Source_3'],\n",
      "      dtype='object')\n"
     ]
    }
   ],
   "source": [
    "object_columns = df.select_dtypes(include=['object'])\n",
    "print(object_columns.columns)"
   ]
  },
  {
   "cell_type": "code",
   "execution_count": 64,
   "metadata": {},
   "outputs": [],
   "source": [
    "# Change numerical column datatypes from object to int and remove string data\n",
    "\n",
    "# Clean and convert 'Client_Income' column to numeric\n",
    "df['Client_Income'] = df['Client_Income'].str.replace('[^0-9.]', '', regex=True)\n",
    "df['Client_Income'] = pd.to_numeric(df['Client_Income'], errors='coerce')\n",
    "\n",
    "# Clean and convert 'Credit_Amount' column to numeric\n",
    "df['Credit_Amount'] = df['Credit_Amount'].str.replace('[^0-9.]', '', regex=True)\n",
    "df['Credit_Amount'] = pd.to_numeric(df['Credit_Amount'], errors='coerce')\n",
    "\n",
    "# Clean and convert 'Loan_Annuity' column to numeric\n",
    "df['Loan_Annuity'] = df['Loan_Annuity'].str.replace('[^0-9.]', '', regex=True)\n",
    "df['Loan_Annuity'] = pd.to_numeric(df['Loan_Annuity'], errors='coerce')\n",
    "\n",
    "# Clean and convert 'Population_Region_Relative' column to numeric\n",
    "df['Population_Region_Relative'] = df['Population_Region_Relative'].str.replace('[^0-9.]', '', regex=True)\n",
    "df['Population_Region_Relative'] = pd.to_numeric(df['Population_Region_Relative'], errors='coerce')\n",
    "\n",
    "# Clean and convert 'Age_Days' column to numeric\n",
    "df['Age_Days'] = df['Age_Days'].str.replace('[^0-9.]', '', regex=True)\n",
    "df['Age_Days'] = pd.to_numeric(df['Age_Days'], errors='coerce')\n",
    "\n",
    "# Clean and convert 'Employed_Days' column to numeric\n",
    "df['Employed_Days'] = df['Employed_Days'].str.replace('[^0-9.]', '', regex=True)\n",
    "df['Employed_Days'] = pd.to_numeric(df['Employed_Days'], errors='coerce')\n",
    "\n",
    "# Clean and convert 'Registration_Days' column to numeric\n",
    "df['Registration_Days'] = df['Registration_Days'].str.replace('[^0-9.]', '', regex=True)\n",
    "df['Registration_Days'] = pd.to_numeric(df['Registration_Days'], errors='coerce')\n",
    "\n",
    "# Clean and convert 'Score_Source_3' column to numeric\n",
    "df['Score_Source_3'] = df['Score_Source_3'].str.replace('[^0-9.]', '', regex=True)\n",
    "df['Score_Source_3'] = pd.to_numeric(df['Score_Source_3'], errors='coerce')"
   ]
  },
  {
   "cell_type": "code",
   "execution_count": 65,
   "metadata": {},
   "outputs": [
    {
     "name": "stdout",
     "output_type": "stream",
     "text": [
      "<class 'pandas.core.frame.DataFrame'>\n",
      "RangeIndex: 121856 entries, 0 to 121855\n",
      "Data columns (total 38 columns):\n",
      " #   Column                      Non-Null Count   Dtype  \n",
      "---  ------                      --------------   -----  \n",
      " 0   Client_Income               102336 non-null  float64\n",
      " 1   Car_Owned                   118275 non-null  float64\n",
      " 2   Bike_Owned                  118232 non-null  float64\n",
      " 3   Active_Loan                 118221 non-null  float64\n",
      " 4   House_Own                   118195 non-null  float64\n",
      " 5   Child_Count                 118218 non-null  float64\n",
      " 6   Credit_Amount               38718 non-null   float64\n",
      " 7   Loan_Annuity                94358 non-null   float64\n",
      " 8   Accompany_Client            120110 non-null  object \n",
      " 9   Client_Income_Type          118155 non-null  object \n",
      " 10  Client_Education            118211 non-null  object \n",
      " 11  Client_Marital_Status       118383 non-null  object \n",
      " 12  Client_Gender               119443 non-null  object \n",
      " 13  Loan_Contract_Type          118205 non-null  object \n",
      " 14  Client_Housing_Type         118169 non-null  object \n",
      " 15  Population_Region_Relative  78625 non-null   float64\n",
      " 16  Age_Days                    111274 non-null  float64\n",
      " 17  Employed_Days               111225 non-null  float64\n",
      " 18  Registration_Days           111267 non-null  float64\n",
      " 19  Own_House_Age               41761 non-null   float64\n",
      " 20  Mobile_Tag                  121856 non-null  int64  \n",
      " 21  Homephone_Tag               121856 non-null  int64  \n",
      " 22  Workphone_Working           121856 non-null  int64  \n",
      " 23  Client_Occupation           80421 non-null   object \n",
      " 24  Client_Family_Members       119446 non-null  float64\n",
      " 25  Cleint_City_Rating          119447 non-null  float64\n",
      " 26  Application_Process_Day     119428 non-null  float64\n",
      " 27  Application_Process_Hour    118193 non-null  float64\n",
      " 28  Client_Permanent_Match_Tag  121856 non-null  object \n",
      " 29  Client_Contact_Work_Tag     121856 non-null  object \n",
      " 30  Type_Organization           118247 non-null  object \n",
      " 31  Score_Source_1              53021 non-null   float64\n",
      " 32  Score_Source_2              116170 non-null  float64\n",
      " 33  Score_Source_3              12822 non-null   float64\n",
      " 34  Social_Circle_Default       59928 non-null   float64\n",
      " 35  Phone_Change                118192 non-null  float64\n",
      " 36  Credit_Bureau               103316 non-null  float64\n",
      " 37  Default                     121856 non-null  int64  \n",
      "dtypes: float64(23), int64(4), object(11)\n",
      "memory usage: 35.3+ MB\n"
     ]
    }
   ],
   "source": [
    "df.info()"
   ]
  },
  {
   "cell_type": "code",
   "execution_count": 66,
   "metadata": {},
   "outputs": [
    {
     "name": "stdout",
     "output_type": "stream",
     "text": [
      "['Sales' nan 'Realty agents' 'Laborers' 'Core' 'Drivers' 'Managers'\n",
      " 'Accountants' 'High skill tech' 'Cleaning' 'HR' 'Waiters/barmen'\n",
      " 'Low-skill Laborers' 'Medicine' 'Cooking' 'Private service' 'Security'\n",
      " 'IT' 'Secretaries']\n"
     ]
    }
   ],
   "source": [
    "#checking the unique values and distribution in the client occupation column\n",
    "unique_occupations = df['Client_Occupation'].unique()\n",
    "print(unique_occupations)"
   ]
  },
  {
   "cell_type": "code",
   "execution_count": 67,
   "metadata": {},
   "outputs": [
    {
     "name": "stdout",
     "output_type": "stream",
     "text": [
      "Client_Occupation\n",
      "Laborers              21024\n",
      "Sales                 12136\n",
      "Core                  10611\n",
      "Managers               8099\n",
      "Drivers                7150\n",
      "High skill tech        4317\n",
      "Accountants            3766\n",
      "Medicine               3172\n",
      "Security               2683\n",
      "Cooking                2224\n",
      "Cleaning               1722\n",
      "Private service        1006\n",
      "Low-skill Laborers      787\n",
      "Secretaries             531\n",
      "Waiters/barmen          511\n",
      "Realty agents           280\n",
      "HR                      206\n",
      "IT                      196\n",
      "Name: count, dtype: int64\n"
     ]
    }
   ],
   "source": [
    "occupation_counts = df['Client_Occupation'].value_counts()\n",
    "print(occupation_counts)"
   ]
  },
  {
   "cell_type": "code",
   "execution_count": 68,
   "metadata": {},
   "outputs": [
    {
     "data": {
      "image/png": "[encoded data removed]",
      "text/plain": [
       "<Figure size 1200x600 with 1 Axes>"
      ]
     },
     "metadata": {},
     "output_type": "display_data"
    }
   ],
   "source": [
    "# Filter out missing values (NaN) in the 'Client_Occupation' column\n",
    "filtered_df = df[df['Client_Occupation'].notna()]\n",
    "\n",
    "# Data\n",
    "unique_occupations = filtered_df['Client_Occupation'].unique()\n",
    "occupation_counts = filtered_df['Client_Occupation'].value_counts()\n",
    "\n",
    "# Create a bar plot\n",
    "plt.figure(figsize=(12, 6))\n",
    "plt.bar(unique_occupations, occupation_counts)\n",
    "\n",
    "# Set labels and title\n",
    "plt.xlabel('Occupation')\n",
    "plt.ylabel('Count')\n",
    "plt.title('Distribution of Client Occupations')\n",
    "\n",
    "# Rotate the x-axis labels for better readability\n",
    "plt.xticks(rotation=90)\n",
    "\n",
    "# Show the plot\n",
    "plt.show()"
   ]
  },
  {
   "cell_type": "code",
   "execution_count": 69,
   "metadata": {},
   "outputs": [],
   "source": [
    "# Define a function to map occupations to new categories\n",
    "def map_occupation(category):\n",
    "    if pd.isna(category):\n",
    "        return 'Unknown'\n",
    "    elif category in ['Sales', 'Realty agents', 'Managers', 'Accountants', 'High skill tech', 'IT']:\n",
    "        return 'Professional'\n",
    "    elif category in ['Laborers', 'Core', 'Drivers', 'Cleaning', 'Low-skill Laborers']:\n",
    "        return 'Skilled Labor'\n",
    "    elif category in ['HR', 'Waiters/barmen', 'Cooking', 'Private service', 'Security', 'Secretaries']:\n",
    "        return 'Service'\n",
    "    elif category == 'Medicine':\n",
    "        return 'Healthcare'\n",
    "    else:\n",
    "        return 'Other'\n",
    "\n",
    "# Apply the function to the 'Client_Occupation' column and create a new 'Occupation_Category' column\n",
    "df['Client_Occupation'] = df['Client_Occupation'].apply(map_occupation)"
   ]
  },
  {
   "cell_type": "code",
   "execution_count": 70,
   "metadata": {},
   "outputs": [
    {
     "data": {
      "text/plain": [
       "<Axes: xlabel='Client_Occupation'>"
      ]
     },
     "execution_count": 70,
     "metadata": {},
     "output_type": "execute_result"
    },
    {
     "data": {
      "image/png": "[encoded data removed]",
      "text/plain": [
       "<Figure size 1000x500 with 1 Axes>"
      ]
     },
     "metadata": {},
     "output_type": "display_data"
    }
   ],
   "source": [
    "plt.figure(figsize=(10,5))\n",
    "df['Client_Occupation'].value_counts().plot(kind='bar')"
   ]
  },
  {
   "cell_type": "markdown",
   "metadata": {},
   "source": [
    "Do the same for the client organization type"
   ]
  },
  {
   "cell_type": "code",
   "execution_count": 71,
   "metadata": {},
   "outputs": [
    {
     "name": "stdout",
     "output_type": "stream",
     "text": [
      "['Self-employed' 'Government' 'XNA' 'Business Entity Type 3' 'Other' nan\n",
      " 'Industry: type 3' 'Business Entity Type 2' 'Business Entity Type 1'\n",
      " 'Transport: type 4' 'Construction' 'Kindergarten' 'Trade: type 3'\n",
      " 'Industry: type 2' 'Trade: type 7' 'Trade: type 2' 'Agriculture'\n",
      " 'Military' 'Medicine' 'Housing' 'Industry: type 1' 'Industry: type 11'\n",
      " 'Bank' 'School' 'Industry: type 9' 'Postal' 'University'\n",
      " 'Transport: type 2' 'Restaurant' 'Electricity' 'Police'\n",
      " 'Industry: type 4' 'Security Ministries' 'Services' 'Transport: type 3'\n",
      " 'Mobile' 'Hotel' 'Security' 'Industry: type 7' 'Advertising' 'Cleaning'\n",
      " 'Realtor' 'Trade: type 6' 'Culture' 'Industry: type 5' 'Telecom'\n",
      " 'Trade: type 1' 'Industry: type 12' 'Industry: type 8' 'Insurance'\n",
      " 'Emergency' 'Legal Services' 'Industry: type 10' 'Trade: type 4'\n",
      " 'Industry: type 6' 'Transport: type 1' 'Industry: type 13' 'Religion'\n",
      " 'Trade: type 5']\n"
     ]
    }
   ],
   "source": [
    "#checking the unique values and distribution in the client occupation column\n",
    "unique_organizations = df['Type_Organization'].unique()\n",
    "print(unique_organizations)"
   ]
  },
  {
   "cell_type": "code",
   "execution_count": 72,
   "metadata": {},
   "outputs": [],
   "source": [
    "# Define a function to map organization types to new categories\n",
    "def map_organization(category):\n",
    "    if pd.isna(category):\n",
    "        return 'Unknown'\n",
    "    elif category == 'XNA':\n",
    "        return 'Unknown'\n",
    "    elif category in ['Self-employed', 'Government']:\n",
    "        return 'Public Sector'\n",
    "    elif category in ['Business Entity Type 3', 'Business Entity Type 2', 'Business Entity Type 1', 'Construction']:\n",
    "        return 'Business'\n",
    "    elif category in ['Trade: type 3', 'Trade: type 7', 'Trade: type 2', 'Agriculture']:\n",
    "        return 'Trade'\n",
    "    elif category in ['Military', 'Medicine', 'Housing', 'Industry: type 1', 'Industry: type 11', 'Bank', 'School', 'Industry: type 9', 'Postal', 'University']:\n",
    "        return 'Institution'\n",
    "    elif category in ['Transport: type 4', 'Transport: type 2', 'Transport: type 3', 'Transport: type 1']:\n",
    "        return 'Transport'\n",
    "    else:\n",
    "        return 'Other'\n",
    "\n",
    "# Apply the function to the 'Type_Organization' column\n",
    "df['Type_Organization'] = df['Type_Organization'].apply(map_organization)"
   ]
  },
  {
   "cell_type": "code",
   "execution_count": 73,
   "metadata": {},
   "outputs": [
    {
     "data": {
      "text/plain": [
       "<Axes: xlabel='Type_Organization'>"
      ]
     },
     "execution_count": 73,
     "metadata": {},
     "output_type": "execute_result"
    },
    {
     "data": {
      "image/png": "[encoded data removed]",
      "text/plain": [
       "<Figure size 1000x500 with 1 Axes>"
      ]
     },
     "metadata": {},
     "output_type": "display_data"
    }
   ],
   "source": [
    "plt.figure(figsize=(10,5))\n",
    "df['Type_Organization'].value_counts().plot(kind='bar')"
   ]
  },
  {
   "cell_type": "code",
   "execution_count": 74,
   "metadata": {},
   "outputs": [
    {
     "data": {
      "text/html": [
       "<div>\n",
       "<style scoped>\n",
       "    .dataframe tbody tr th:only-of-type {\n",
       "        vertical-align: middle;\n",
       "    }\n",
       "\n",
       "    .dataframe tbody tr th {\n",
       "        vertical-align: top;\n",
       "    }\n",
       "\n",
       "    .dataframe thead th {\n",
       "        text-align: right;\n",
       "    }\n",
       "</style>\n",
       "<table border=\"1\" class=\"dataframe\">\n",
       "  <thead>\n",
       "    <tr style=\"text-align: right;\">\n",
       "      <th></th>\n",
       "      <th>Client_Income</th>\n",
       "      <th>Car_Owned</th>\n",
       "      <th>Bike_Owned</th>\n",
       "      <th>Active_Loan</th>\n",
       "      <th>House_Own</th>\n",
       "      <th>Child_Count</th>\n",
       "      <th>Credit_Amount</th>\n",
       "      <th>Loan_Annuity</th>\n",
       "      <th>Accompany_Client</th>\n",
       "      <th>Client_Income_Type</th>\n",
       "      <th>...</th>\n",
       "      <th>Client_Permanent_Match_Tag</th>\n",
       "      <th>Client_Contact_Work_Tag</th>\n",
       "      <th>Type_Organization</th>\n",
       "      <th>Score_Source_1</th>\n",
       "      <th>Score_Source_2</th>\n",
       "      <th>Score_Source_3</th>\n",
       "      <th>Social_Circle_Default</th>\n",
       "      <th>Phone_Change</th>\n",
       "      <th>Credit_Bureau</th>\n",
       "      <th>Default</th>\n",
       "    </tr>\n",
       "  </thead>\n",
       "  <tbody>\n",
       "    <tr>\n",
       "      <th>0</th>\n",
       "      <td>6750.0</td>\n",
       "      <td>0.0</td>\n",
       "      <td>0.0</td>\n",
       "      <td>1.0</td>\n",
       "      <td>0.0</td>\n",
       "      <td>0.0</td>\n",
       "      <td>61190.55</td>\n",
       "      <td>3416.85</td>\n",
       "      <td>Alone</td>\n",
       "      <td>Commercial</td>\n",
       "      <td>...</td>\n",
       "      <td>Yes</td>\n",
       "      <td>Yes</td>\n",
       "      <td>Public Sector</td>\n",
       "      <td>0.568066</td>\n",
       "      <td>0.478787</td>\n",
       "      <td>NaN</td>\n",
       "      <td>0.0186</td>\n",
       "      <td>63.0</td>\n",
       "      <td>NaN</td>\n",
       "      <td>0</td>\n",
       "    </tr>\n",
       "    <tr>\n",
       "      <th>1</th>\n",
       "      <td>20250.0</td>\n",
       "      <td>1.0</td>\n",
       "      <td>0.0</td>\n",
       "      <td>1.0</td>\n",
       "      <td>NaN</td>\n",
       "      <td>0.0</td>\n",
       "      <td>15282.00</td>\n",
       "      <td>1826.55</td>\n",
       "      <td>Alone</td>\n",
       "      <td>Service</td>\n",
       "      <td>...</td>\n",
       "      <td>Yes</td>\n",
       "      <td>Yes</td>\n",
       "      <td>Public Sector</td>\n",
       "      <td>0.563360</td>\n",
       "      <td>0.215068</td>\n",
       "      <td>NaN</td>\n",
       "      <td>NaN</td>\n",
       "      <td>NaN</td>\n",
       "      <td>NaN</td>\n",
       "      <td>0</td>\n",
       "    </tr>\n",
       "    <tr>\n",
       "      <th>2</th>\n",
       "      <td>18000.0</td>\n",
       "      <td>0.0</td>\n",
       "      <td>0.0</td>\n",
       "      <td>1.0</td>\n",
       "      <td>0.0</td>\n",
       "      <td>1.0</td>\n",
       "      <td>59527.35</td>\n",
       "      <td>2788.20</td>\n",
       "      <td>Alone</td>\n",
       "      <td>Service</td>\n",
       "      <td>...</td>\n",
       "      <td>Yes</td>\n",
       "      <td>Yes</td>\n",
       "      <td>Public Sector</td>\n",
       "      <td>NaN</td>\n",
       "      <td>0.552795</td>\n",
       "      <td>NaN</td>\n",
       "      <td>0.0742</td>\n",
       "      <td>277.0</td>\n",
       "      <td>0.0</td>\n",
       "      <td>0</td>\n",
       "    </tr>\n",
       "    <tr>\n",
       "      <th>3</th>\n",
       "      <td>15750.0</td>\n",
       "      <td>0.0</td>\n",
       "      <td>0.0</td>\n",
       "      <td>1.0</td>\n",
       "      <td>1.0</td>\n",
       "      <td>0.0</td>\n",
       "      <td>53870.40</td>\n",
       "      <td>2295.45</td>\n",
       "      <td>Alone</td>\n",
       "      <td>Retired</td>\n",
       "      <td>...</td>\n",
       "      <td>Yes</td>\n",
       "      <td>Yes</td>\n",
       "      <td>Unknown</td>\n",
       "      <td>NaN</td>\n",
       "      <td>0.135182</td>\n",
       "      <td>NaN</td>\n",
       "      <td>NaN</td>\n",
       "      <td>1700.0</td>\n",
       "      <td>3.0</td>\n",
       "      <td>0</td>\n",
       "    </tr>\n",
       "    <tr>\n",
       "      <th>4</th>\n",
       "      <td>33750.0</td>\n",
       "      <td>1.0</td>\n",
       "      <td>0.0</td>\n",
       "      <td>1.0</td>\n",
       "      <td>0.0</td>\n",
       "      <td>2.0</td>\n",
       "      <td>133988.40</td>\n",
       "      <td>3547.35</td>\n",
       "      <td>Alone</td>\n",
       "      <td>Commercial</td>\n",
       "      <td>...</td>\n",
       "      <td>Yes</td>\n",
       "      <td>Yes</td>\n",
       "      <td>Business</td>\n",
       "      <td>0.508199</td>\n",
       "      <td>0.301182</td>\n",
       "      <td>NaN</td>\n",
       "      <td>0.2021</td>\n",
       "      <td>674.0</td>\n",
       "      <td>1.0</td>\n",
       "      <td>0</td>\n",
       "    </tr>\n",
       "  </tbody>\n",
       "</table>\n",
       "<p>5 rows × 38 columns</p>\n",
       "</div>"
      ],
      "text/plain": [
       "   Client_Income  Car_Owned  Bike_Owned  Active_Loan  House_Own  Child_Count  \\\n",
       "0         6750.0        0.0         0.0          1.0        0.0          0.0   \n",
       "1        20250.0        1.0         0.0          1.0        NaN          0.0   \n",
       "2        18000.0        0.0         0.0          1.0        0.0          1.0   \n",
       "3        15750.0        0.0         0.0          1.0        1.0          0.0   \n",
       "4        33750.0        1.0         0.0          1.0        0.0          2.0   \n",
       "\n",
       "   Credit_Amount  Loan_Annuity Accompany_Client Client_Income_Type  ...  \\\n",
       "0       61190.55       3416.85            Alone         Commercial  ...   \n",
       "1       15282.00       1826.55            Alone            Service  ...   \n",
       "2       59527.35       2788.20            Alone            Service  ...   \n",
       "3       53870.40       2295.45            Alone            Retired  ...   \n",
       "4      133988.40       3547.35            Alone         Commercial  ...   \n",
       "\n",
       "  Client_Permanent_Match_Tag Client_Contact_Work_Tag Type_Organization  \\\n",
       "0                        Yes                     Yes     Public Sector   \n",
       "1                        Yes                     Yes     Public Sector   \n",
       "2                        Yes                     Yes     Public Sector   \n",
       "3                        Yes                     Yes           Unknown   \n",
       "4                        Yes                     Yes          Business   \n",
       "\n",
       "  Score_Source_1 Score_Source_2  Score_Source_3  Social_Circle_Default  \\\n",
       "0       0.568066       0.478787             NaN                 0.0186   \n",
       "1       0.563360       0.215068             NaN                    NaN   \n",
       "2            NaN       0.552795             NaN                 0.0742   \n",
       "3            NaN       0.135182             NaN                    NaN   \n",
       "4       0.508199       0.301182             NaN                 0.2021   \n",
       "\n",
       "   Phone_Change  Credit_Bureau  Default  \n",
       "0          63.0            NaN        0  \n",
       "1           NaN            NaN        0  \n",
       "2         277.0            0.0        0  \n",
       "3        1700.0            3.0        0  \n",
       "4         674.0            1.0        0  \n",
       "\n",
       "[5 rows x 38 columns]"
      ]
     },
     "execution_count": 74,
     "metadata": {},
     "output_type": "execute_result"
    }
   ],
   "source": [
    "df.head()"
   ]
  },
  {
   "cell_type": "code",
   "execution_count": 75,
   "metadata": {},
   "outputs": [],
   "source": [
    "#categorical columns\n",
    "categorical_columns = ['Mobile_Tag', 'Homephone_Tag', 'Workphone_Working','Default','House_Own','Active_Loan','Bike_Owned','Car_Owned']\n",
    "\n",
    "# Replace '1' with 'yes' and '0' with 'no' in each column\n",
    "for col in categorical_columns:\n",
    "    df[col] = df[col].replace({1: 'yes', 0: 'no'})"
   ]
  },
  {
   "cell_type": "code",
   "execution_count": 76,
   "metadata": {},
   "outputs": [
    {
     "name": "stdout",
     "output_type": "stream",
     "text": [
      "<class 'pandas.core.frame.DataFrame'>\n",
      "RangeIndex: 121856 entries, 0 to 121855\n",
      "Data columns (total 38 columns):\n",
      " #   Column                      Non-Null Count   Dtype  \n",
      "---  ------                      --------------   -----  \n",
      " 0   Client_Income               102336 non-null  float64\n",
      " 1   Car_Owned                   118275 non-null  object \n",
      " 2   Bike_Owned                  118232 non-null  object \n",
      " 3   Active_Loan                 118221 non-null  object \n",
      " 4   House_Own                   118195 non-null  object \n",
      " 5   Child_Count                 118218 non-null  float64\n",
      " 6   Credit_Amount               38718 non-null   float64\n",
      " 7   Loan_Annuity                94358 non-null   float64\n",
      " 8   Accompany_Client            120110 non-null  object \n",
      " 9   Client_Income_Type          118155 non-null  object \n",
      " 10  Client_Education            118211 non-null  object \n",
      " 11  Client_Marital_Status       118383 non-null  object \n",
      " 12  Client_Gender               119443 non-null  object \n",
      " 13  Loan_Contract_Type          118205 non-null  object \n",
      " 14  Client_Housing_Type         118169 non-null  object \n",
      " 15  Population_Region_Relative  78625 non-null   float64\n",
      " 16  Age_Days                    111274 non-null  float64\n",
      " 17  Employed_Days               111225 non-null  float64\n",
      " 18  Registration_Days           111267 non-null  float64\n",
      " 19  Own_House_Age               41761 non-null   float64\n",
      " 20  Mobile_Tag                  121856 non-null  object \n",
      " 21  Homephone_Tag               121856 non-null  object \n",
      " 22  Workphone_Working           121856 non-null  object \n",
      " 23  Client_Occupation           121856 non-null  object \n",
      " 24  Client_Family_Members       119446 non-null  float64\n",
      " 25  Cleint_City_Rating          119447 non-null  float64\n",
      " 26  Application_Process_Day     119428 non-null  float64\n",
      " 27  Application_Process_Hour    118193 non-null  float64\n",
      " 28  Client_Permanent_Match_Tag  121856 non-null  object \n",
      " 29  Client_Contact_Work_Tag     121856 non-null  object \n",
      " 30  Type_Organization           121856 non-null  object \n",
      " 31  Score_Source_1              53021 non-null   float64\n",
      " 32  Score_Source_2              116170 non-null  float64\n",
      " 33  Score_Source_3              12822 non-null   float64\n",
      " 34  Social_Circle_Default       59928 non-null   float64\n",
      " 35  Phone_Change                118192 non-null  float64\n",
      " 36  Credit_Bureau               103316 non-null  float64\n",
      " 37  Default                     121856 non-null  object \n",
      "dtypes: float64(19), object(19)\n",
      "memory usage: 35.3+ MB\n"
     ]
    }
   ],
   "source": [
    "df.info()"
   ]
  },
  {
   "cell_type": "code",
   "execution_count": 77,
   "metadata": {},
   "outputs": [
    {
     "data": {
      "text/plain": [
       "(121856, 38)"
      ]
     },
     "execution_count": 77,
     "metadata": {},
     "output_type": "execute_result"
    }
   ],
   "source": [
    "df.shape"
   ]
  },
  {
   "cell_type": "code",
   "execution_count": 78,
   "metadata": {},
   "outputs": [
    {
     "data": {
      "text/html": [
       "<div>\n",
       "<style scoped>\n",
       "    .dataframe tbody tr th:only-of-type {\n",
       "        vertical-align: middle;\n",
       "    }\n",
       "\n",
       "    .dataframe tbody tr th {\n",
       "        vertical-align: top;\n",
       "    }\n",
       "\n",
       "    .dataframe thead th {\n",
       "        text-align: right;\n",
       "    }\n",
       "</style>\n",
       "<table border=\"1\" class=\"dataframe\">\n",
       "  <thead>\n",
       "    <tr style=\"text-align: right;\">\n",
       "      <th></th>\n",
       "      <th>Client_Income</th>\n",
       "      <th>Car_Owned</th>\n",
       "      <th>Bike_Owned</th>\n",
       "      <th>Active_Loan</th>\n",
       "      <th>House_Own</th>\n",
       "      <th>Child_Count</th>\n",
       "      <th>Credit_Amount</th>\n",
       "      <th>Loan_Annuity</th>\n",
       "      <th>Accompany_Client</th>\n",
       "      <th>Client_Income_Type</th>\n",
       "      <th>...</th>\n",
       "      <th>Client_Permanent_Match_Tag</th>\n",
       "      <th>Client_Contact_Work_Tag</th>\n",
       "      <th>Type_Organization</th>\n",
       "      <th>Score_Source_1</th>\n",
       "      <th>Score_Source_2</th>\n",
       "      <th>Score_Source_3</th>\n",
       "      <th>Social_Circle_Default</th>\n",
       "      <th>Phone_Change</th>\n",
       "      <th>Credit_Bureau</th>\n",
       "      <th>Default</th>\n",
       "    </tr>\n",
       "  </thead>\n",
       "  <tbody>\n",
       "    <tr>\n",
       "      <th>0</th>\n",
       "      <td>6750.0</td>\n",
       "      <td>no</td>\n",
       "      <td>no</td>\n",
       "      <td>yes</td>\n",
       "      <td>no</td>\n",
       "      <td>0.0</td>\n",
       "      <td>61190.55</td>\n",
       "      <td>3416.85</td>\n",
       "      <td>Alone</td>\n",
       "      <td>Commercial</td>\n",
       "      <td>...</td>\n",
       "      <td>Yes</td>\n",
       "      <td>Yes</td>\n",
       "      <td>Public Sector</td>\n",
       "      <td>0.568066</td>\n",
       "      <td>0.478787</td>\n",
       "      <td>NaN</td>\n",
       "      <td>0.0186</td>\n",
       "      <td>63.0</td>\n",
       "      <td>NaN</td>\n",
       "      <td>no</td>\n",
       "    </tr>\n",
       "    <tr>\n",
       "      <th>1</th>\n",
       "      <td>20250.0</td>\n",
       "      <td>yes</td>\n",
       "      <td>no</td>\n",
       "      <td>yes</td>\n",
       "      <td>NaN</td>\n",
       "      <td>0.0</td>\n",
       "      <td>15282.00</td>\n",
       "      <td>1826.55</td>\n",
       "      <td>Alone</td>\n",
       "      <td>Service</td>\n",
       "      <td>...</td>\n",
       "      <td>Yes</td>\n",
       "      <td>Yes</td>\n",
       "      <td>Public Sector</td>\n",
       "      <td>0.563360</td>\n",
       "      <td>0.215068</td>\n",
       "      <td>NaN</td>\n",
       "      <td>NaN</td>\n",
       "      <td>NaN</td>\n",
       "      <td>NaN</td>\n",
       "      <td>no</td>\n",
       "    </tr>\n",
       "    <tr>\n",
       "      <th>2</th>\n",
       "      <td>18000.0</td>\n",
       "      <td>no</td>\n",
       "      <td>no</td>\n",
       "      <td>yes</td>\n",
       "      <td>no</td>\n",
       "      <td>1.0</td>\n",
       "      <td>59527.35</td>\n",
       "      <td>2788.20</td>\n",
       "      <td>Alone</td>\n",
       "      <td>Service</td>\n",
       "      <td>...</td>\n",
       "      <td>Yes</td>\n",
       "      <td>Yes</td>\n",
       "      <td>Public Sector</td>\n",
       "      <td>NaN</td>\n",
       "      <td>0.552795</td>\n",
       "      <td>NaN</td>\n",
       "      <td>0.0742</td>\n",
       "      <td>277.0</td>\n",
       "      <td>0.0</td>\n",
       "      <td>no</td>\n",
       "    </tr>\n",
       "    <tr>\n",
       "      <th>3</th>\n",
       "      <td>15750.0</td>\n",
       "      <td>no</td>\n",
       "      <td>no</td>\n",
       "      <td>yes</td>\n",
       "      <td>yes</td>\n",
       "      <td>0.0</td>\n",
       "      <td>53870.40</td>\n",
       "      <td>2295.45</td>\n",
       "      <td>Alone</td>\n",
       "      <td>Retired</td>\n",
       "      <td>...</td>\n",
       "      <td>Yes</td>\n",
       "      <td>Yes</td>\n",
       "      <td>Unknown</td>\n",
       "      <td>NaN</td>\n",
       "      <td>0.135182</td>\n",
       "      <td>NaN</td>\n",
       "      <td>NaN</td>\n",
       "      <td>1700.0</td>\n",
       "      <td>3.0</td>\n",
       "      <td>no</td>\n",
       "    </tr>\n",
       "    <tr>\n",
       "      <th>4</th>\n",
       "      <td>33750.0</td>\n",
       "      <td>yes</td>\n",
       "      <td>no</td>\n",
       "      <td>yes</td>\n",
       "      <td>no</td>\n",
       "      <td>2.0</td>\n",
       "      <td>133988.40</td>\n",
       "      <td>3547.35</td>\n",
       "      <td>Alone</td>\n",
       "      <td>Commercial</td>\n",
       "      <td>...</td>\n",
       "      <td>Yes</td>\n",
       "      <td>Yes</td>\n",
       "      <td>Business</td>\n",
       "      <td>0.508199</td>\n",
       "      <td>0.301182</td>\n",
       "      <td>NaN</td>\n",
       "      <td>0.2021</td>\n",
       "      <td>674.0</td>\n",
       "      <td>1.0</td>\n",
       "      <td>no</td>\n",
       "    </tr>\n",
       "  </tbody>\n",
       "</table>\n",
       "<p>5 rows × 38 columns</p>\n",
       "</div>"
      ],
      "text/plain": [
       "   Client_Income Car_Owned Bike_Owned Active_Loan House_Own  Child_Count  \\\n",
       "0         6750.0        no         no         yes        no          0.0   \n",
       "1        20250.0       yes         no         yes       NaN          0.0   \n",
       "2        18000.0        no         no         yes        no          1.0   \n",
       "3        15750.0        no         no         yes       yes          0.0   \n",
       "4        33750.0       yes         no         yes        no          2.0   \n",
       "\n",
       "   Credit_Amount  Loan_Annuity Accompany_Client Client_Income_Type  ...  \\\n",
       "0       61190.55       3416.85            Alone         Commercial  ...   \n",
       "1       15282.00       1826.55            Alone            Service  ...   \n",
       "2       59527.35       2788.20            Alone            Service  ...   \n",
       "3       53870.40       2295.45            Alone            Retired  ...   \n",
       "4      133988.40       3547.35            Alone         Commercial  ...   \n",
       "\n",
       "  Client_Permanent_Match_Tag Client_Contact_Work_Tag Type_Organization  \\\n",
       "0                        Yes                     Yes     Public Sector   \n",
       "1                        Yes                     Yes     Public Sector   \n",
       "2                        Yes                     Yes     Public Sector   \n",
       "3                        Yes                     Yes           Unknown   \n",
       "4                        Yes                     Yes          Business   \n",
       "\n",
       "  Score_Source_1 Score_Source_2  Score_Source_3  Social_Circle_Default  \\\n",
       "0       0.568066       0.478787             NaN                 0.0186   \n",
       "1       0.563360       0.215068             NaN                    NaN   \n",
       "2            NaN       0.552795             NaN                 0.0742   \n",
       "3            NaN       0.135182             NaN                    NaN   \n",
       "4       0.508199       0.301182             NaN                 0.2021   \n",
       "\n",
       "   Phone_Change  Credit_Bureau  Default  \n",
       "0          63.0            NaN       no  \n",
       "1           NaN            NaN       no  \n",
       "2         277.0            0.0       no  \n",
       "3        1700.0            3.0       no  \n",
       "4         674.0            1.0       no  \n",
       "\n",
       "[5 rows x 38 columns]"
      ]
     },
     "execution_count": 78,
     "metadata": {},
     "output_type": "execute_result"
    }
   ],
   "source": [
    "df.head()"
   ]
  },
  {
   "cell_type": "code",
   "execution_count": 79,
   "metadata": {},
   "outputs": [
    {
     "name": "stdout",
     "output_type": "stream",
     "text": [
      "['yes' 'no']\n",
      "Mobile_Tag\n",
      "yes    121855\n",
      "no          1\n",
      "Name: count, dtype: int64\n"
     ]
    }
   ],
   "source": [
    "#checking the unique values and distribution in the mobile tag column\n",
    "mobile_Tag = df['Mobile_Tag'].unique()\n",
    "print(mobile_Tag)\n",
    "\n",
    "mobile_Tag_counts = df['Mobile_Tag'].value_counts()\n",
    "print(mobile_Tag_counts)"
   ]
  },
  {
   "cell_type": "code",
   "execution_count": 80,
   "metadata": {},
   "outputs": [
    {
     "data": {
      "text/plain": [
       "(121856, 37)"
      ]
     },
     "execution_count": 80,
     "metadata": {},
     "output_type": "execute_result"
    }
   ],
   "source": [
    "#drop the mobile tag column\n",
    "df.drop(columns = 'Mobile_Tag', inplace=True)\n",
    "df.shape"
   ]
  },
  {
   "cell_type": "code",
   "execution_count": 81,
   "metadata": {},
   "outputs": [
    {
     "name": "stdout",
     "output_type": "stream",
     "text": [
      "Null Values in each column:\n",
      "                    column name  Total missing  Percent missing\n",
      "0               Score_Source_3         109034         0.894777\n",
      "1                Credit_Amount          83138         0.682264\n",
      "2                Own_House_Age          80095         0.657292\n",
      "3               Score_Source_1          68835         0.564888\n",
      "4        Social_Circle_Default          61928         0.508206\n",
      "5   Population_Region_Relative          43231         0.354771\n",
      "6                 Loan_Annuity          27498         0.225660\n",
      "7                Client_Income          19520         0.160189\n",
      "8                Credit_Bureau          18540         0.152147\n",
      "9                Employed_Days          10631         0.087242\n",
      "10           Registration_Days          10589         0.086898\n",
      "11                    Age_Days          10582         0.086840\n",
      "12              Score_Source_2           5686         0.046662\n",
      "13          Client_Income_Type           3701         0.030372\n",
      "14         Client_Housing_Type           3687         0.030257\n",
      "15                Phone_Change           3664         0.030068\n",
      "16    Application_Process_Hour           3663         0.030060\n",
      "17                   House_Own           3661         0.030044\n",
      "18          Loan_Contract_Type           3651         0.029962\n",
      "19            Client_Education           3645         0.029912\n",
      "20                 Child_Count           3638         0.029855\n",
      "21                 Active_Loan           3635         0.029830\n",
      "22                  Bike_Owned           3624         0.029740\n",
      "23                   Car_Owned           3581         0.029387\n",
      "24       Client_Marital_Status           3473         0.028501\n",
      "25     Application_Process_Day           2428         0.019925\n",
      "26               Client_Gender           2413         0.019802\n",
      "27       Client_Family_Members           2410         0.019777\n",
      "28          Cleint_City_Rating           2409         0.019769\n",
      "29            Accompany_Client           1746         0.014328\n",
      "30           Type_Organization              0         0.000000\n",
      "31     Client_Contact_Work_Tag              0         0.000000\n",
      "32  Client_Permanent_Match_Tag              0         0.000000\n",
      "33           Client_Occupation              0         0.000000\n",
      "34           Workphone_Working              0         0.000000\n",
      "35               Homephone_Tag              0         0.000000\n",
      "36                     Default              0         0.000000\n"
     ]
    }
   ],
   "source": [
    "null= df.isnull().sum().sort_values(ascending=False)\n",
    "total =df.shape[0]\n",
    "percent_missing= (df.isnull().sum()/total).sort_values(ascending=False)\n",
    "\n",
    "missing_data= pd.concat([null, percent_missing], axis=1, \n",
    "                        keys=['Total missing', 'Percent missing'])\n",
    "\n",
    "missing_data.reset_index(inplace=True)\n",
    "missing_data= missing_data.rename(columns= { \"index\": \" column name\"})\n",
    " \n",
    "print (\"Null Values in each column:\\n\", \n",
    "       missing_data.sort_values(by ='Total missing', ascending = False))"
   ]
  },
  {
   "cell_type": "code",
   "execution_count": 82,
   "metadata": {},
   "outputs": [
    {
     "name": "stdout",
     "output_type": "stream",
     "text": [
      "Columns with missing values greater than 20 percent have been dropped.\n",
      "Remaining columns:\n",
      "   Client_Income Car_Owned Bike_Owned Active_Loan House_Own  Child_Count  \\\n",
      "0         6750.0        no         no         yes        no          0.0   \n",
      "1        20250.0       yes         no         yes       NaN          0.0   \n",
      "2        18000.0        no         no         yes        no          1.0   \n",
      "3        15750.0        no         no         yes       yes          0.0   \n",
      "4        33750.0       yes         no         yes        no          2.0   \n",
      "\n",
      "  Accompany_Client Client_Income_Type    Client_Education  \\\n",
      "0            Alone         Commercial           Secondary   \n",
      "1            Alone            Service          Graduation   \n",
      "2            Alone            Service  Graduation dropout   \n",
      "3            Alone            Retired           Secondary   \n",
      "4            Alone         Commercial           Secondary   \n",
      "\n",
      "  Client_Marital_Status  ... Cleint_City_Rating Application_Process_Day  \\\n",
      "0                     M  ...                2.0                     6.0   \n",
      "1                     M  ...                2.0                     3.0   \n",
      "2                     W  ...                2.0                     4.0   \n",
      "3                     M  ...                3.0                     2.0   \n",
      "4                     M  ...                1.0                     3.0   \n",
      "\n",
      "  Application_Process_Hour  Client_Permanent_Match_Tag  \\\n",
      "0                     17.0                         Yes   \n",
      "1                     10.0                         Yes   \n",
      "2                      NaN                         Yes   \n",
      "3                     15.0                         Yes   \n",
      "4                      NaN                         Yes   \n",
      "\n",
      "   Client_Contact_Work_Tag  Type_Organization Score_Source_2 Phone_Change  \\\n",
      "0                      Yes      Public Sector       0.478787         63.0   \n",
      "1                      Yes      Public Sector       0.215068          NaN   \n",
      "2                      Yes      Public Sector       0.552795        277.0   \n",
      "3                      Yes            Unknown       0.135182       1700.0   \n",
      "4                      Yes           Business       0.301182        674.0   \n",
      "\n",
      "  Credit_Bureau  Default  \n",
      "0           NaN       no  \n",
      "1           NaN       no  \n",
      "2           0.0       no  \n",
      "3           3.0       no  \n",
      "4           1.0       no  \n",
      "\n",
      "[5 rows x 30 columns]\n"
     ]
    }
   ],
   "source": [
    "# Calculate the percentage of missing values for each column\n",
    "percent_missing = (df.isnull().sum() / len(df)) * 100\n",
    "\n",
    "# Create a list of columns to drop where missing values are greater than 20 percent\n",
    "columns_to_drop = percent_missing[percent_missing > 20].index\n",
    "\n",
    "# Drop the selected columns\n",
    "df = df.drop(columns=columns_to_drop)\n",
    "\n",
    "# Print the updated DataFrame\n",
    "print(\"Columns with missing values greater than 20 percent have been dropped.\")\n",
    "print(\"Remaining columns:\")\n",
    "print(df.head())"
   ]
  },
  {
   "cell_type": "code",
   "execution_count": 83,
   "metadata": {},
   "outputs": [
    {
     "data": {
      "text/plain": [
       "(121856, 30)"
      ]
     },
     "execution_count": 83,
     "metadata": {},
     "output_type": "execute_result"
    }
   ],
   "source": [
    "\n",
    "df.shape"
   ]
  },
  {
   "cell_type": "code",
   "execution_count": 84,
   "metadata": {},
   "outputs": [
    {
     "data": {
      "text/html": [
       "<div>\n",
       "<style scoped>\n",
       "    .dataframe tbody tr th:only-of-type {\n",
       "        vertical-align: middle;\n",
       "    }\n",
       "\n",
       "    .dataframe tbody tr th {\n",
       "        vertical-align: top;\n",
       "    }\n",
       "\n",
       "    .dataframe thead th {\n",
       "        text-align: right;\n",
       "    }\n",
       "</style>\n",
       "<table border=\"1\" class=\"dataframe\">\n",
       "  <thead>\n",
       "    <tr style=\"text-align: right;\">\n",
       "      <th></th>\n",
       "      <th>Client_Income</th>\n",
       "      <th>Car_Owned</th>\n",
       "      <th>Bike_Owned</th>\n",
       "      <th>Active_Loan</th>\n",
       "      <th>House_Own</th>\n",
       "      <th>Child_Count</th>\n",
       "      <th>Accompany_Client</th>\n",
       "      <th>Client_Income_Type</th>\n",
       "      <th>Client_Education</th>\n",
       "      <th>Client_Marital_Status</th>\n",
       "      <th>...</th>\n",
       "      <th>Cleint_City_Rating</th>\n",
       "      <th>Application_Process_Day</th>\n",
       "      <th>Application_Process_Hour</th>\n",
       "      <th>Client_Permanent_Match_Tag</th>\n",
       "      <th>Client_Contact_Work_Tag</th>\n",
       "      <th>Type_Organization</th>\n",
       "      <th>Score_Source_2</th>\n",
       "      <th>Phone_Change</th>\n",
       "      <th>Credit_Bureau</th>\n",
       "      <th>Default</th>\n",
       "    </tr>\n",
       "  </thead>\n",
       "  <tbody>\n",
       "    <tr>\n",
       "      <th>0</th>\n",
       "      <td>6750.0</td>\n",
       "      <td>no</td>\n",
       "      <td>no</td>\n",
       "      <td>yes</td>\n",
       "      <td>no</td>\n",
       "      <td>0.0</td>\n",
       "      <td>Alone</td>\n",
       "      <td>Commercial</td>\n",
       "      <td>Secondary</td>\n",
       "      <td>M</td>\n",
       "      <td>...</td>\n",
       "      <td>2.0</td>\n",
       "      <td>6.0</td>\n",
       "      <td>17.0</td>\n",
       "      <td>Yes</td>\n",
       "      <td>Yes</td>\n",
       "      <td>Public Sector</td>\n",
       "      <td>0.478787</td>\n",
       "      <td>63.0</td>\n",
       "      <td>NaN</td>\n",
       "      <td>no</td>\n",
       "    </tr>\n",
       "    <tr>\n",
       "      <th>1</th>\n",
       "      <td>20250.0</td>\n",
       "      <td>yes</td>\n",
       "      <td>no</td>\n",
       "      <td>yes</td>\n",
       "      <td>NaN</td>\n",
       "      <td>0.0</td>\n",
       "      <td>Alone</td>\n",
       "      <td>Service</td>\n",
       "      <td>Graduation</td>\n",
       "      <td>M</td>\n",
       "      <td>...</td>\n",
       "      <td>2.0</td>\n",
       "      <td>3.0</td>\n",
       "      <td>10.0</td>\n",
       "      <td>Yes</td>\n",
       "      <td>Yes</td>\n",
       "      <td>Public Sector</td>\n",
       "      <td>0.215068</td>\n",
       "      <td>NaN</td>\n",
       "      <td>NaN</td>\n",
       "      <td>no</td>\n",
       "    </tr>\n",
       "    <tr>\n",
       "      <th>2</th>\n",
       "      <td>18000.0</td>\n",
       "      <td>no</td>\n",
       "      <td>no</td>\n",
       "      <td>yes</td>\n",
       "      <td>no</td>\n",
       "      <td>1.0</td>\n",
       "      <td>Alone</td>\n",
       "      <td>Service</td>\n",
       "      <td>Graduation dropout</td>\n",
       "      <td>W</td>\n",
       "      <td>...</td>\n",
       "      <td>2.0</td>\n",
       "      <td>4.0</td>\n",
       "      <td>NaN</td>\n",
       "      <td>Yes</td>\n",
       "      <td>Yes</td>\n",
       "      <td>Public Sector</td>\n",
       "      <td>0.552795</td>\n",
       "      <td>277.0</td>\n",
       "      <td>0.0</td>\n",
       "      <td>no</td>\n",
       "    </tr>\n",
       "    <tr>\n",
       "      <th>3</th>\n",
       "      <td>15750.0</td>\n",
       "      <td>no</td>\n",
       "      <td>no</td>\n",
       "      <td>yes</td>\n",
       "      <td>yes</td>\n",
       "      <td>0.0</td>\n",
       "      <td>Alone</td>\n",
       "      <td>Retired</td>\n",
       "      <td>Secondary</td>\n",
       "      <td>M</td>\n",
       "      <td>...</td>\n",
       "      <td>3.0</td>\n",
       "      <td>2.0</td>\n",
       "      <td>15.0</td>\n",
       "      <td>Yes</td>\n",
       "      <td>Yes</td>\n",
       "      <td>Unknown</td>\n",
       "      <td>0.135182</td>\n",
       "      <td>1700.0</td>\n",
       "      <td>3.0</td>\n",
       "      <td>no</td>\n",
       "    </tr>\n",
       "    <tr>\n",
       "      <th>4</th>\n",
       "      <td>33750.0</td>\n",
       "      <td>yes</td>\n",
       "      <td>no</td>\n",
       "      <td>yes</td>\n",
       "      <td>no</td>\n",
       "      <td>2.0</td>\n",
       "      <td>Alone</td>\n",
       "      <td>Commercial</td>\n",
       "      <td>Secondary</td>\n",
       "      <td>M</td>\n",
       "      <td>...</td>\n",
       "      <td>1.0</td>\n",
       "      <td>3.0</td>\n",
       "      <td>NaN</td>\n",
       "      <td>Yes</td>\n",
       "      <td>Yes</td>\n",
       "      <td>Business</td>\n",
       "      <td>0.301182</td>\n",
       "      <td>674.0</td>\n",
       "      <td>1.0</td>\n",
       "      <td>no</td>\n",
       "    </tr>\n",
       "  </tbody>\n",
       "</table>\n",
       "<p>5 rows × 30 columns</p>\n",
       "</div>"
      ],
      "text/plain": [
       "   Client_Income Car_Owned Bike_Owned Active_Loan House_Own  Child_Count  \\\n",
       "0         6750.0        no         no         yes        no          0.0   \n",
       "1        20250.0       yes         no         yes       NaN          0.0   \n",
       "2        18000.0        no         no         yes        no          1.0   \n",
       "3        15750.0        no         no         yes       yes          0.0   \n",
       "4        33750.0       yes         no         yes        no          2.0   \n",
       "\n",
       "  Accompany_Client Client_Income_Type    Client_Education  \\\n",
       "0            Alone         Commercial           Secondary   \n",
       "1            Alone            Service          Graduation   \n",
       "2            Alone            Service  Graduation dropout   \n",
       "3            Alone            Retired           Secondary   \n",
       "4            Alone         Commercial           Secondary   \n",
       "\n",
       "  Client_Marital_Status  ... Cleint_City_Rating Application_Process_Day  \\\n",
       "0                     M  ...                2.0                     6.0   \n",
       "1                     M  ...                2.0                     3.0   \n",
       "2                     W  ...                2.0                     4.0   \n",
       "3                     M  ...                3.0                     2.0   \n",
       "4                     M  ...                1.0                     3.0   \n",
       "\n",
       "  Application_Process_Hour  Client_Permanent_Match_Tag  \\\n",
       "0                     17.0                         Yes   \n",
       "1                     10.0                         Yes   \n",
       "2                      NaN                         Yes   \n",
       "3                     15.0                         Yes   \n",
       "4                      NaN                         Yes   \n",
       "\n",
       "   Client_Contact_Work_Tag  Type_Organization Score_Source_2 Phone_Change  \\\n",
       "0                      Yes      Public Sector       0.478787         63.0   \n",
       "1                      Yes      Public Sector       0.215068          NaN   \n",
       "2                      Yes      Public Sector       0.552795        277.0   \n",
       "3                      Yes            Unknown       0.135182       1700.0   \n",
       "4                      Yes           Business       0.301182        674.0   \n",
       "\n",
       "  Credit_Bureau  Default  \n",
       "0           NaN       no  \n",
       "1           NaN       no  \n",
       "2           0.0       no  \n",
       "3           3.0       no  \n",
       "4           1.0       no  \n",
       "\n",
       "[5 rows x 30 columns]"
      ]
     },
     "execution_count": 84,
     "metadata": {},
     "output_type": "execute_result"
    }
   ],
   "source": [
    "df.head()"
   ]
  },
  {
   "cell_type": "code",
   "execution_count": 85,
   "metadata": {},
   "outputs": [
    {
     "name": "stdout",
     "output_type": "stream",
     "text": [
      "NaN values in the remaining DataFrame:\n",
      "Client_Income                 19520\n",
      "Car_Owned                      3581\n",
      "Bike_Owned                     3624\n",
      "Active_Loan                    3635\n",
      "House_Own                      3661\n",
      "Child_Count                    3638\n",
      "Accompany_Client               1746\n",
      "Client_Income_Type             3701\n",
      "Client_Education               3645\n",
      "Client_Marital_Status          3473\n",
      "Client_Gender                  2413\n",
      "Loan_Contract_Type             3651\n",
      "Client_Housing_Type            3687\n",
      "Age_Days                      10582\n",
      "Employed_Days                 10631\n",
      "Registration_Days             10589\n",
      "Homephone_Tag                     0\n",
      "Workphone_Working                 0\n",
      "Client_Occupation                 0\n",
      "Client_Family_Members          2410\n",
      "Cleint_City_Rating             2409\n",
      "Application_Process_Day        2428\n",
      "Application_Process_Hour       3663\n",
      "Client_Permanent_Match_Tag        0\n",
      "Client_Contact_Work_Tag           0\n",
      "Type_Organization                 0\n",
      "Score_Source_2                 5686\n",
      "Phone_Change                   3664\n",
      "Credit_Bureau                 18540\n",
      "Default                           0\n",
      "dtype: int64\n"
     ]
    }
   ],
   "source": [
    "# Check for NaN values in the remaining DataFrame\n",
    "nan_values = df.isna().sum()\n",
    "print(\"NaN values in the remaining DataFrame:\")\n",
    "print(nan_values)"
   ]
  },
  {
   "cell_type": "code",
   "execution_count": 86,
   "metadata": {},
   "outputs": [],
   "source": [
    "# Fill Client_Income, Employed_Days, Registration_Days, Age_Days and Credit_Bureau with median value\n",
    "df['Age_Days'].fillna(df['Age_Days'].median(), inplace=True)\n",
    "df['Client_Income'].fillna(df['Client_Income'].median(), inplace=True)\n",
    "df['Credit_Bureau'].fillna(df['Credit_Bureau'].median(), inplace=True)\n",
    "df['Employed_Days'].fillna(df['Employed_Days'].median(), inplace=True)\n",
    "df['Registration_Days'].fillna(df['Registration_Days'].median(), inplace=True)"
   ]
  },
  {
   "cell_type": "code",
   "execution_count": 87,
   "metadata": {},
   "outputs": [
    {
     "name": "stdout",
     "output_type": "stream",
     "text": [
      "NaN values in the remaining DataFrame:\n",
      "Client_Income                    0\n",
      "Car_Owned                     3581\n",
      "Bike_Owned                    3624\n",
      "Active_Loan                   3635\n",
      "House_Own                     3661\n",
      "Child_Count                   3638\n",
      "Accompany_Client              1746\n",
      "Client_Income_Type            3701\n",
      "Client_Education              3645\n",
      "Client_Marital_Status         3473\n",
      "Client_Gender                 2413\n",
      "Loan_Contract_Type            3651\n",
      "Client_Housing_Type           3687\n",
      "Age_Days                         0\n",
      "Employed_Days                    0\n",
      "Registration_Days                0\n",
      "Homephone_Tag                    0\n",
      "Workphone_Working                0\n",
      "Client_Occupation                0\n",
      "Client_Family_Members         2410\n",
      "Cleint_City_Rating            2409\n",
      "Application_Process_Day       2428\n",
      "Application_Process_Hour      3663\n",
      "Client_Permanent_Match_Tag       0\n",
      "Client_Contact_Work_Tag          0\n",
      "Type_Organization                0\n",
      "Score_Source_2                5686\n",
      "Phone_Change                  3664\n",
      "Credit_Bureau                    0\n",
      "Default                          0\n",
      "dtype: int64\n"
     ]
    }
   ],
   "source": [
    "# Check for NaN values in the remaining DataFrame\n",
    "nan_values = df.isna().sum()\n",
    "print(\"NaN values in the remaining DataFrame:\")\n",
    "print(nan_values)"
   ]
  },
  {
   "cell_type": "code",
   "execution_count": 88,
   "metadata": {},
   "outputs": [],
   "source": [
    "#fill the missing values for the remaining categorical and numerical columns\n",
    "categorical_columns = ['Client_Gender', 'Client_Education', 'Client_Marital_Status', 'Client_Housing_Type', 'Client_Income_Type', 'Accompany_Client', 'Client_Occupation', 'Type_Organization']\n",
    "numerical_columns = ['Child_Count', 'Client_Family_Members']\n",
    "\n",
    "for column in categorical_columns:\n",
    "    df[column].fillna(df[column].mode()[0], inplace=True)\n",
    "\n",
    "for column in numerical_columns:\n",
    "    df[column].fillna(df[column].median(), inplace=True)"
   ]
  },
  {
   "cell_type": "code",
   "execution_count": 89,
   "metadata": {},
   "outputs": [
    {
     "name": "stdout",
     "output_type": "stream",
     "text": [
      "<class 'pandas.core.frame.DataFrame'>\n",
      "RangeIndex: 121856 entries, 0 to 121855\n",
      "Data columns (total 30 columns):\n",
      " #   Column                      Non-Null Count   Dtype  \n",
      "---  ------                      --------------   -----  \n",
      " 0   Client_Income               121856 non-null  float64\n",
      " 1   Car_Owned                   118275 non-null  object \n",
      " 2   Bike_Owned                  118232 non-null  object \n",
      " 3   Active_Loan                 118221 non-null  object \n",
      " 4   House_Own                   118195 non-null  object \n",
      " 5   Child_Count                 121856 non-null  float64\n",
      " 6   Accompany_Client            121856 non-null  object \n",
      " 7   Client_Income_Type          121856 non-null  object \n",
      " 8   Client_Education            121856 non-null  object \n",
      " 9   Client_Marital_Status       121856 non-null  object \n",
      " 10  Client_Gender               121856 non-null  object \n",
      " 11  Loan_Contract_Type          118205 non-null  object \n",
      " 12  Client_Housing_Type         121856 non-null  object \n",
      " 13  Age_Days                    121856 non-null  float64\n",
      " 14  Employed_Days               121856 non-null  float64\n",
      " 15  Registration_Days           121856 non-null  float64\n",
      " 16  Homephone_Tag               121856 non-null  object \n",
      " 17  Workphone_Working           121856 non-null  object \n",
      " 18  Client_Occupation           121856 non-null  object \n",
      " 19  Client_Family_Members       121856 non-null  float64\n",
      " 20  Cleint_City_Rating          119447 non-null  float64\n",
      " 21  Application_Process_Day     119428 non-null  float64\n",
      " 22  Application_Process_Hour    118193 non-null  float64\n",
      " 23  Client_Permanent_Match_Tag  121856 non-null  object \n",
      " 24  Client_Contact_Work_Tag     121856 non-null  object \n",
      " 25  Type_Organization           121856 non-null  object \n",
      " 26  Score_Source_2              116170 non-null  float64\n",
      " 27  Phone_Change                118192 non-null  float64\n",
      " 28  Credit_Bureau               121856 non-null  float64\n",
      " 29  Default                     121856 non-null  object \n",
      "dtypes: float64(12), object(18)\n",
      "memory usage: 27.9+ MB\n"
     ]
    }
   ],
   "source": [
    "df.info()"
   ]
  },
  {
   "cell_type": "code",
   "execution_count": 90,
   "metadata": {},
   "outputs": [
    {
     "name": "stdout",
     "output_type": "stream",
     "text": [
      "NaN values in the remaining DataFrame:\n",
      "Client_Income                    0\n",
      "Car_Owned                     3581\n",
      "Bike_Owned                    3624\n",
      "Active_Loan                   3635\n",
      "House_Own                     3661\n",
      "Child_Count                      0\n",
      "Accompany_Client                 0\n",
      "Client_Income_Type               0\n",
      "Client_Education                 0\n",
      "Client_Marital_Status            0\n",
      "Client_Gender                    0\n",
      "Loan_Contract_Type            3651\n",
      "Client_Housing_Type              0\n",
      "Age_Days                         0\n",
      "Employed_Days                    0\n",
      "Registration_Days                0\n",
      "Homephone_Tag                    0\n",
      "Workphone_Working                0\n",
      "Client_Occupation                0\n",
      "Client_Family_Members            0\n",
      "Cleint_City_Rating            2409\n",
      "Application_Process_Day       2428\n",
      "Application_Process_Hour      3663\n",
      "Client_Permanent_Match_Tag       0\n",
      "Client_Contact_Work_Tag          0\n",
      "Type_Organization                0\n",
      "Score_Source_2                5686\n",
      "Phone_Change                  3664\n",
      "Credit_Bureau                    0\n",
      "Default                          0\n",
      "dtype: int64\n"
     ]
    }
   ],
   "source": [
    "# Check for NaN values in the remaining DataFrame\n",
    "nan_values = df.isna().sum()\n",
    "print(\"NaN values in the remaining DataFrame:\")\n",
    "print(nan_values)"
   ]
  },
  {
   "cell_type": "code",
   "execution_count": 91,
   "metadata": {},
   "outputs": [],
   "source": [
    "categorical_columns = ['Car_Owned', 'Bike_Owned', 'Active_Loan', 'House_Own', 'Loan_Contract_Type']\n",
    "numerical_columns = ['Cleint_City_Rating', 'Application_Process_Day', 'Application_Process_Hour', 'Score_Source_2', 'Phone_Change']\n",
    "\n",
    "for column in categorical_columns:\n",
    "    df[column].fillna(df[column].mode()[0], inplace=True)\n",
    "\n",
    "for column in numerical_columns:\n",
    "    df[column].fillna(df[column].median(), inplace=True)"
   ]
  },
  {
   "cell_type": "code",
   "execution_count": 92,
   "metadata": {},
   "outputs": [
    {
     "name": "stdout",
     "output_type": "stream",
     "text": [
      "<class 'pandas.core.frame.DataFrame'>\n",
      "RangeIndex: 121856 entries, 0 to 121855\n",
      "Data columns (total 30 columns):\n",
      " #   Column                      Non-Null Count   Dtype  \n",
      "---  ------                      --------------   -----  \n",
      " 0   Client_Income               121856 non-null  float64\n",
      " 1   Car_Owned                   121856 non-null  object \n",
      " 2   Bike_Owned                  121856 non-null  object \n",
      " 3   Active_Loan                 121856 non-null  object \n",
      " 4   House_Own                   121856 non-null  object \n",
      " 5   Child_Count                 121856 non-null  float64\n",
      " 6   Accompany_Client            121856 non-null  object \n",
      " 7   Client_Income_Type          121856 non-null  object \n",
      " 8   Client_Education            121856 non-null  object \n",
      " 9   Client_Marital_Status       121856 non-null  object \n",
      " 10  Client_Gender               121856 non-null  object \n",
      " 11  Loan_Contract_Type          121856 non-null  object \n",
      " 12  Client_Housing_Type         121856 non-null  object \n",
      " 13  Age_Days                    121856 non-null  float64\n",
      " 14  Employed_Days               121856 non-null  float64\n",
      " 15  Registration_Days           121856 non-null  float64\n",
      " 16  Homephone_Tag               121856 non-null  object \n",
      " 17  Workphone_Working           121856 non-null  object \n",
      " 18  Client_Occupation           121856 non-null  object \n",
      " 19  Client_Family_Members       121856 non-null  float64\n",
      " 20  Cleint_City_Rating          121856 non-null  float64\n",
      " 21  Application_Process_Day     121856 non-null  float64\n",
      " 22  Application_Process_Hour    121856 non-null  float64\n",
      " 23  Client_Permanent_Match_Tag  121856 non-null  object \n",
      " 24  Client_Contact_Work_Tag     121856 non-null  object \n",
      " 25  Type_Organization           121856 non-null  object \n",
      " 26  Score_Source_2              121856 non-null  float64\n",
      " 27  Phone_Change                121856 non-null  float64\n",
      " 28  Credit_Bureau               121856 non-null  float64\n",
      " 29  Default                     121856 non-null  object \n",
      "dtypes: float64(12), object(18)\n",
      "memory usage: 27.9+ MB\n"
     ]
    }
   ],
   "source": [
    "df.info()"
   ]
  },
  {
   "cell_type": "code",
   "execution_count": 93,
   "metadata": {},
   "outputs": [
    {
     "data": {
      "text/plain": [
       "Client_Income                 0\n",
       "Car_Owned                     0\n",
       "Bike_Owned                    0\n",
       "Active_Loan                   0\n",
       "House_Own                     0\n",
       "Child_Count                   0\n",
       "Accompany_Client              0\n",
       "Client_Income_Type            0\n",
       "Client_Education              0\n",
       "Client_Marital_Status         0\n",
       "Client_Gender                 0\n",
       "Loan_Contract_Type            0\n",
       "Client_Housing_Type           0\n",
       "Age_Days                      0\n",
       "Employed_Days                 0\n",
       "Registration_Days             0\n",
       "Homephone_Tag                 0\n",
       "Workphone_Working             0\n",
       "Client_Occupation             0\n",
       "Client_Family_Members         0\n",
       "Cleint_City_Rating            0\n",
       "Application_Process_Day       0\n",
       "Application_Process_Hour      0\n",
       "Client_Permanent_Match_Tag    0\n",
       "Client_Contact_Work_Tag       0\n",
       "Type_Organization             0\n",
       "Score_Source_2                0\n",
       "Phone_Change                  0\n",
       "Credit_Bureau                 0\n",
       "Default                       0\n",
       "dtype: int64"
      ]
     },
     "execution_count": 93,
     "metadata": {},
     "output_type": "execute_result"
    }
   ],
   "source": [
    "df.isnull().sum()"
   ]
  },
  {
   "cell_type": "code",
   "execution_count": 94,
   "metadata": {},
   "outputs": [
    {
     "data": {
      "text/plain": [
       "(121856, 30)"
      ]
     },
     "execution_count": 94,
     "metadata": {},
     "output_type": "execute_result"
    }
   ],
   "source": [
    "df.shape"
   ]
  },
  {
   "cell_type": "code",
   "execution_count": 95,
   "metadata": {},
   "outputs": [
    {
     "data": {
      "text/plain": [
       "Index(['Client_Income', 'Car_Owned', 'Bike_Owned', 'Active_Loan', 'House_Own',\n",
       "       'Child_Count', 'Accompany_Client', 'Client_Income_Type',\n",
       "       'Client_Education', 'Client_Marital_Status', 'Client_Gender',\n",
       "       'Loan_Contract_Type', 'Client_Housing_Type', 'Age_Days',\n",
       "       'Employed_Days', 'Registration_Days', 'Homephone_Tag',\n",
       "       'Workphone_Working', 'Client_Occupation', 'Client_Family_Members',\n",
       "       'Cleint_City_Rating', 'Application_Process_Day',\n",
       "       'Application_Process_Hour', 'Client_Permanent_Match_Tag',\n",
       "       'Client_Contact_Work_Tag', 'Type_Organization', 'Score_Source_2',\n",
       "       'Phone_Change', 'Credit_Bureau', 'Default'],\n",
       "      dtype='object')"
      ]
     },
     "execution_count": 95,
     "metadata": {},
     "output_type": "execute_result"
    }
   ],
   "source": [
    "df.columns"
   ]
  },
  {
   "cell_type": "code",
   "execution_count": 96,
   "metadata": {},
   "outputs": [],
   "source": [
    "df.drop(columns = ['Cleint_City_Rating', 'Accompany_Client', 'Client_Income_Type', 'Client_Occupation','Client_Family_Members','Age_Days'], inplace=True)"
   ]
  },
  {
   "cell_type": "code",
   "execution_count": 97,
   "metadata": {},
   "outputs": [
    {
     "name": "stdout",
     "output_type": "stream",
     "text": [
      "(121856, 24)\n"
     ]
    }
   ],
   "source": [
    "# shape of the data\n",
    "print(df.shape)\n"
   ]
  },
  {
   "cell_type": "code",
   "execution_count": 98,
   "metadata": {},
   "outputs": [],
   "source": [
    "# save the cleaned data\n",
    "df.to_csv(r'E:\\ML projects\\AutomobileLoanDefaultPrediction\\notebooks\\data\\cleaned_data.csv', index=False)"
   ]
  },
  {
   "cell_type": "code",
   "execution_count": 100,
   "metadata": {},
   "outputs": [
    {
     "data": {
      "text/plain": [
       "<Axes: >"
      ]
     },
     "execution_count": 100,
     "metadata": {},
     "output_type": "execute_result"
    },
    {
     "data": {
      "image/png": "[encoded data removed]",
      "text/plain": [
       "<Figure size 1500x1000 with 2 Axes>"
      ]
     },
     "metadata": {},
     "output_type": "display_data"
    }
   ],
   "source": [
    "correlation = df.corr(numeric_only=True)\n",
    "plt.figure(figsize=(15,10))\n",
    "sns.heatmap(correlation, annot=True, cmap='coolwarm')"
   ]
  },
  {
   "cell_type": "code",
   "execution_count": 101,
   "metadata": {},
   "outputs": [
    {
     "data": {
      "text/plain": [
       "Index(['Car_Owned', 'Bike_Owned', 'Active_Loan', 'House_Own',\n",
       "       'Client_Education', 'Client_Marital_Status', 'Client_Gender',\n",
       "       'Loan_Contract_Type', 'Client_Housing_Type', 'Homephone_Tag',\n",
       "       'Workphone_Working', 'Client_Permanent_Match_Tag',\n",
       "       'Client_Contact_Work_Tag', 'Type_Organization', 'Default'],\n",
       "      dtype='object')"
      ]
     },
     "execution_count": 101,
     "metadata": {},
     "output_type": "execute_result"
    }
   ],
   "source": [
    "df.select_dtypes(include='object').columns"
   ]
  },
  {
   "cell_type": "code",
   "execution_count": 102,
   "metadata": {},
   "outputs": [
    {
     "name": "stdout",
     "output_type": "stream",
     "text": [
      "Index(['Client_Income', 'Child_Count', 'Employed_Days', 'Registration_Days',\n",
      "       'Application_Process_Day', 'Application_Process_Hour', 'Score_Source_2',\n",
      "       'Phone_Change', 'Credit_Bureau'],\n",
      "      dtype='object')\n"
     ]
    }
   ],
   "source": [
    "# Numerica\n",
    "numerical_columns = df.select_dtypes(include=['int64', 'float64'])\n",
    "print(numerical_columns.columns)"
   ]
  },
  {
   "cell_type": "code",
   "execution_count": null,
   "metadata": {},
   "outputs": [],
   "source": []
  }
 ],
 "metadata": {
  "kernelspec": {
   "display_name": "Python 3",
   "language": "python",
   "name": "python3"
  },
  "language_info": {
   "codemirror_mode": {
    "name": "ipython",
    "version": 3
   },
   "file_extension": ".py",
   "mimetype": "text/x-python",
   "name": "python",
   "nbconvert_exporter": "python",
   "pygments_lexer": "ipython3",
   "version": "3.8.0"
  }
 },
 "nbformat": 4,
 "nbformat_minor": 2
}
